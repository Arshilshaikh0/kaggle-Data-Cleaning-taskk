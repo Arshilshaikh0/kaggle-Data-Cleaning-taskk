{
 "cells": [
  {
   "cell_type": "markdown",
   "id": "15626ac1",
   "metadata": {
    "papermill": {
     "duration": 0.006143,
     "end_time": "2022-08-13T20:27:53.452531",
     "exception": false,
     "start_time": "2022-08-13T20:27:53.446388",
     "status": "completed"
    },
    "tags": []
   },
   "source": [
    "**This notebook is an exercise in the [Data Cleaning](https://www.kaggle.com/learn/data-cleaning) course.  You can reference the tutorial at [this link](https://www.kaggle.com/alexisbcook/inconsistent-data-entry).**\n",
    "\n",
    "---\n"
   ]
  },
  {
   "cell_type": "markdown",
   "id": "09d5ef73",
   "metadata": {
    "papermill": {
     "duration": 0.004406,
     "end_time": "2022-08-13T20:27:53.461857",
     "exception": false,
     "start_time": "2022-08-13T20:27:53.457451",
     "status": "completed"
    },
    "tags": []
   },
   "source": [
    "In this exercise, you'll apply what you learned in the **Inconsistent data entry** tutorial.\n",
    "\n",
    "# Setup\n",
    "\n",
    "The questions below will give you feedback on your work. Run the following cell to set up the feedback system."
   ]
  },
  {
   "cell_type": "code",
   "execution_count": 1,
   "id": "111d26b9",
   "metadata": {
    "execution": {
     "iopub.execute_input": "2022-08-13T20:27:53.473776Z",
     "iopub.status.busy": "2022-08-13T20:27:53.473297Z",
     "iopub.status.idle": "2022-08-13T20:27:53.591904Z",
     "shell.execute_reply": "2022-08-13T20:27:53.590309Z"
    },
    "papermill": {
     "duration": 0.129383,
     "end_time": "2022-08-13T20:27:53.596249",
     "exception": false,
     "start_time": "2022-08-13T20:27:53.466866",
     "status": "completed"
    },
    "tags": []
   },
   "outputs": [
    {
     "name": "stdout",
     "output_type": "stream",
     "text": [
      "Setup Complete\n"
     ]
    }
   ],
   "source": [
    "from learntools.core import binder\n",
    "binder.bind(globals())\n",
    "from learntools.data_cleaning.ex5 import *\n",
    "print(\"Setup Complete\")"
   ]
  },
  {
   "cell_type": "markdown",
   "id": "9c2ef0ef",
   "metadata": {
    "papermill": {
     "duration": 0.004712,
     "end_time": "2022-08-13T20:27:53.607740",
     "exception": false,
     "start_time": "2022-08-13T20:27:53.603028",
     "status": "completed"
    },
    "tags": []
   },
   "source": [
    "# Get our environment set up\n",
    "\n",
    "The first thing we'll need to do is load in the libraries and dataset we'll be using.  We use the same dataset from the tutorial."
   ]
  },
  {
   "cell_type": "code",
   "execution_count": 2,
   "id": "683544b9",
   "metadata": {
    "execution": {
     "iopub.execute_input": "2022-08-13T20:27:53.619079Z",
     "iopub.status.busy": "2022-08-13T20:27:53.618622Z",
     "iopub.status.idle": "2022-08-13T20:27:53.638600Z",
     "shell.execute_reply": "2022-08-13T20:27:53.637007Z"
    },
    "papermill": {
     "duration": 0.028814,
     "end_time": "2022-08-13T20:27:53.641309",
     "exception": false,
     "start_time": "2022-08-13T20:27:53.612495",
     "status": "completed"
    },
    "tags": []
   },
   "outputs": [],
   "source": [
    "# modules we'll use\n",
    "import pandas as pd\n",
    "import numpy as np\n",
    "\n",
    "# helpful modules\n",
    "import fuzzywuzzy\n",
    "from fuzzywuzzy import process\n",
    "import chardet\n",
    "\n",
    "# read in all our data\n",
    "professors = pd.read_csv(\"../input/pakistan-intellectual-capital/pakistan_intellectual_capital.csv\")\n",
    "\n",
    "# set seed for reproducibility\n",
    "np.random.seed(0)"
   ]
  },
  {
   "cell_type": "markdown",
   "id": "b6db0ab6",
   "metadata": {
    "papermill": {
     "duration": 0.004589,
     "end_time": "2022-08-13T20:27:53.650972",
     "exception": false,
     "start_time": "2022-08-13T20:27:53.646383",
     "status": "completed"
    },
    "tags": []
   },
   "source": [
    "Next, we'll redo all of the work that we did in the tutorial."
   ]
  },
  {
   "cell_type": "code",
   "execution_count": 3,
   "id": "292f106c",
   "metadata": {
    "execution": {
     "iopub.execute_input": "2022-08-13T20:27:53.662192Z",
     "iopub.status.busy": "2022-08-13T20:27:53.661779Z",
     "iopub.status.idle": "2022-08-13T20:27:53.679414Z",
     "shell.execute_reply": "2022-08-13T20:27:53.677674Z"
    },
    "papermill": {
     "duration": 0.026047,
     "end_time": "2022-08-13T20:27:53.681765",
     "exception": false,
     "start_time": "2022-08-13T20:27:53.655718",
     "status": "completed"
    },
    "tags": []
   },
   "outputs": [
    {
     "name": "stdout",
     "output_type": "stream",
     "text": [
      "All done!\n"
     ]
    }
   ],
   "source": [
    "# convert to lower case\n",
    "professors['Country'] = professors['Country'].str.lower()\n",
    "# remove trailing white spaces\n",
    "professors['Country'] = professors['Country'].str.strip()\n",
    "\n",
    "# get the top 10 closest matches to \"south korea\"\n",
    "countries = professors['Country'].unique()\n",
    "matches = fuzzywuzzy.process.extract(\"south korea\", countries, limit=10, scorer=fuzzywuzzy.fuzz.token_sort_ratio)\n",
    "\n",
    "def replace_matches_in_column(df, column, string_to_match, min_ratio = 47):\n",
    "    # get a list of unique strings\n",
    "    strings = df[column].unique()\n",
    "    \n",
    "    # get the top 10 closest matches to our input string\n",
    "    matches = fuzzywuzzy.process.extract(string_to_match, strings, \n",
    "                                         limit=10, scorer=fuzzywuzzy.fuzz.token_sort_ratio)\n",
    "\n",
    "    # only get matches with a ratio > 90\n",
    "    close_matches = [matches[0] for matches in matches if matches[1] >= min_ratio]\n",
    "\n",
    "    # get the rows of all the close matches in our dataframe\n",
    "    rows_with_matches = df[column].isin(close_matches)\n",
    "\n",
    "    # replace all rows with close matches with the input matches \n",
    "    df.loc[rows_with_matches, column] = string_to_match\n",
    "    \n",
    "    # let us know the function's done\n",
    "    print(\"All done!\")\n",
    "    \n",
    "replace_matches_in_column(df=professors, column='Country', string_to_match=\"south korea\")\n",
    "countries = professors['Country'].unique()"
   ]
  },
  {
   "cell_type": "markdown",
   "id": "c248e644",
   "metadata": {
    "papermill": {
     "duration": 0.004635,
     "end_time": "2022-08-13T20:27:53.691951",
     "exception": false,
     "start_time": "2022-08-13T20:27:53.687316",
     "status": "completed"
    },
    "tags": []
   },
   "source": [
    "# 1) Examine another column\n",
    "\n",
    "Write code below to take a look at all the unique values in the \"Graduated from\" column."
   ]
  },
  {
   "cell_type": "code",
   "execution_count": 4,
   "id": "459fcc55",
   "metadata": {
    "execution": {
     "iopub.execute_input": "2022-08-13T20:27:53.703542Z",
     "iopub.status.busy": "2022-08-13T20:27:53.702911Z",
     "iopub.status.idle": "2022-08-13T20:27:53.713469Z",
     "shell.execute_reply": "2022-08-13T20:27:53.712133Z"
    },
    "papermill": {
     "duration": 0.019354,
     "end_time": "2022-08-13T20:27:53.716216",
     "exception": false,
     "start_time": "2022-08-13T20:27:53.696862",
     "status": "completed"
    },
    "tags": []
   },
   "outputs": [
    {
     "data": {
      "text/plain": [
       "array(['australia', 'austria', 'canada', 'china', 'finland', 'france',\n",
       "       'germany', 'greece', 'hongkong', 'ireland', 'italy', 'japan',\n",
       "       'macau', 'malaysia', 'mauritius', 'netherland', 'new zealand',\n",
       "       'norway', 'pakistan', 'portugal', 'russian federation',\n",
       "       'saudi arabia', 'scotland', 'singapore', 'south korea', 'spain',\n",
       "       'sweden', 'thailand', 'turkey', 'uk', 'urbana', 'usa', 'usofa'],\n",
       "      dtype=object)"
      ]
     },
     "execution_count": 4,
     "metadata": {},
     "output_type": "execute_result"
    }
   ],
   "source": [
    "# TODO: Your code here\n",
    "\n",
    "unis = professors['Graduated from'].unique()\n",
    "\n",
    "countries.sort()\n",
    "countries"
   ]
  },
  {
   "cell_type": "markdown",
   "id": "099ea6a2",
   "metadata": {
    "papermill": {
     "duration": 0.004817,
     "end_time": "2022-08-13T20:27:53.726017",
     "exception": false,
     "start_time": "2022-08-13T20:27:53.721200",
     "status": "completed"
    },
    "tags": []
   },
   "source": [
    "Do you notice any inconsistencies in the data?  Can any of the inconsistencies in the data be fixed by removing white spaces at the beginning and end of cells?\n",
    "\n",
    "Once you have answered these questions, run the code cell below to get credit for your work."
   ]
  },
  {
   "cell_type": "code",
   "execution_count": 5,
   "id": "064c953d",
   "metadata": {
    "execution": {
     "iopub.execute_input": "2022-08-13T20:27:53.737877Z",
     "iopub.status.busy": "2022-08-13T20:27:53.737449Z",
     "iopub.status.idle": "2022-08-13T20:27:53.747205Z",
     "shell.execute_reply": "2022-08-13T20:27:53.745868Z"
    },
    "papermill": {
     "duration": 0.018876,
     "end_time": "2022-08-13T20:27:53.749821",
     "exception": false,
     "start_time": "2022-08-13T20:27:53.730945",
     "status": "completed"
    },
    "tags": []
   },
   "outputs": [
    {
     "data": {
      "application/javascript": [
       "parent.postMessage({\"jupyterEvent\": \"custom.exercise_interaction\", \"data\": {\"outcomeType\": 1, \"valueTowardsCompletion\": 0.3333333333333333, \"interactionType\": 1, \"questionType\": 4, \"questionId\": \"1_ExamineProvince\", \"learnToolsVersion\": \"0.3.4\", \"failureMessage\": \"\", \"exceptionClass\": \"\", \"trace\": \"\"}}, \"*\")"
      ],
      "text/plain": [
       "<IPython.core.display.Javascript object>"
      ]
     },
     "metadata": {},
     "output_type": "display_data"
    },
    {
     "data": {
      "text/markdown": [
       "<span style=\"color:#33cc33\">Correct:</span> \n",
       "\n",
       "There are inconsistencies that can be fixed by removing white spaces at the beginning and end of cells.  For instance, \"University of Central Florida\" and \" University of Central Florida\" both appear in the column."
      ],
      "text/plain": [
       "Correct: \n",
       "\n",
       "There are inconsistencies that can be fixed by removing white spaces at the beginning and end of cells.  For instance, \"University of Central Florida\" and \" University of Central Florida\" both appear in the column."
      ]
     },
     "metadata": {},
     "output_type": "display_data"
    }
   ],
   "source": [
    "# Check your answer (Run this code cell to receive credit!)\n",
    "q1.check()"
   ]
  },
  {
   "cell_type": "code",
   "execution_count": 6,
   "id": "47e11e9a",
   "metadata": {
    "execution": {
     "iopub.execute_input": "2022-08-13T20:27:53.762375Z",
     "iopub.status.busy": "2022-08-13T20:27:53.761996Z",
     "iopub.status.idle": "2022-08-13T20:27:53.766585Z",
     "shell.execute_reply": "2022-08-13T20:27:53.765385Z"
    },
    "papermill": {
     "duration": 0.013494,
     "end_time": "2022-08-13T20:27:53.768807",
     "exception": false,
     "start_time": "2022-08-13T20:27:53.755313",
     "status": "completed"
    },
    "tags": []
   },
   "outputs": [],
   "source": [
    "# Line below will give you a hint\n",
    "#q1.hint()"
   ]
  },
  {
   "cell_type": "markdown",
   "id": "e5d38218",
   "metadata": {
    "papermill": {
     "duration": 0.004888,
     "end_time": "2022-08-13T20:27:53.778928",
     "exception": false,
     "start_time": "2022-08-13T20:27:53.774040",
     "status": "completed"
    },
    "tags": []
   },
   "source": [
    "# 2) Do some text pre-processing\n",
    "\n",
    "Convert every entry in the \"Graduated from\" column in the `professors` DataFrame to remove white spaces at the beginning and end of cells."
   ]
  },
  {
   "cell_type": "code",
   "execution_count": 7,
   "id": "a6f408f6",
   "metadata": {
    "execution": {
     "iopub.execute_input": "2022-08-13T20:27:53.791179Z",
     "iopub.status.busy": "2022-08-13T20:27:53.790804Z",
     "iopub.status.idle": "2022-08-13T20:27:53.802616Z",
     "shell.execute_reply": "2022-08-13T20:27:53.801711Z"
    },
    "papermill": {
     "duration": 0.020447,
     "end_time": "2022-08-13T20:27:53.804768",
     "exception": false,
     "start_time": "2022-08-13T20:27:53.784321",
     "status": "completed"
    },
    "tags": []
   },
   "outputs": [
    {
     "data": {
      "application/javascript": [
       "parent.postMessage({\"jupyterEvent\": \"custom.exercise_interaction\", \"data\": {\"outcomeType\": 1, \"valueTowardsCompletion\": 0.3333333333333333, \"interactionType\": 1, \"questionType\": 1, \"questionId\": \"2_TextProcessing\", \"learnToolsVersion\": \"0.3.4\", \"failureMessage\": \"\", \"exceptionClass\": \"\", \"trace\": \"\"}}, \"*\")"
      ],
      "text/plain": [
       "<IPython.core.display.Javascript object>"
      ]
     },
     "metadata": {},
     "output_type": "display_data"
    },
    {
     "data": {
      "text/markdown": [
       "<span style=\"color:#33cc33\">Correct</span>"
      ],
      "text/plain": [
       "Correct"
      ]
     },
     "metadata": {},
     "output_type": "display_data"
    }
   ],
   "source": [
    "# TODO: Your code here\n",
    "professors['Graduated from'] = professors['Graduated from'].str.strip()\n",
    "\n",
    "# Check your answer\n",
    "q2.check()"
   ]
  },
  {
   "cell_type": "code",
   "execution_count": 8,
   "id": "cd37fdd3",
   "metadata": {
    "execution": {
     "iopub.execute_input": "2022-08-13T20:27:53.817581Z",
     "iopub.status.busy": "2022-08-13T20:27:53.816925Z",
     "iopub.status.idle": "2022-08-13T20:27:53.821074Z",
     "shell.execute_reply": "2022-08-13T20:27:53.820015Z"
    },
    "papermill": {
     "duration": 0.012865,
     "end_time": "2022-08-13T20:27:53.823200",
     "exception": false,
     "start_time": "2022-08-13T20:27:53.810335",
     "status": "completed"
    },
    "tags": []
   },
   "outputs": [],
   "source": [
    "# Lines below will give you a hint or solution code\n",
    "#q2.hint()\n",
    "#q2.solution()"
   ]
  },
  {
   "cell_type": "markdown",
   "id": "4dcfd77a",
   "metadata": {
    "papermill": {
     "duration": 0.005941,
     "end_time": "2022-08-13T20:27:53.834734",
     "exception": false,
     "start_time": "2022-08-13T20:27:53.828793",
     "status": "completed"
    },
    "tags": []
   },
   "source": [
    "# 3) Continue working with countries\n",
    "\n",
    "In the tutorial, we focused on cleaning up inconsistencies in the \"Country\" column.  Run the code cell below to view the list of unique values that we ended with."
   ]
  },
  {
   "cell_type": "code",
   "execution_count": 9,
   "id": "558ef08b",
   "metadata": {
    "execution": {
     "iopub.execute_input": "2022-08-13T20:27:53.847888Z",
     "iopub.status.busy": "2022-08-13T20:27:53.847235Z",
     "iopub.status.idle": "2022-08-13T20:27:53.854832Z",
     "shell.execute_reply": "2022-08-13T20:27:53.853936Z"
    },
    "papermill": {
     "duration": 0.016812,
     "end_time": "2022-08-13T20:27:53.857006",
     "exception": false,
     "start_time": "2022-08-13T20:27:53.840194",
     "status": "completed"
    },
    "tags": []
   },
   "outputs": [
    {
     "data": {
      "text/plain": [
       "array(['australia', 'austria', 'canada', 'china', 'finland', 'france',\n",
       "       'germany', 'greece', 'hongkong', 'ireland', 'italy', 'japan',\n",
       "       'macau', 'malaysia', 'mauritius', 'netherland', 'new zealand',\n",
       "       'norway', 'pakistan', 'portugal', 'russian federation',\n",
       "       'saudi arabia', 'scotland', 'singapore', 'south korea', 'spain',\n",
       "       'sweden', 'thailand', 'turkey', 'uk', 'urbana', 'usa', 'usofa'],\n",
       "      dtype=object)"
      ]
     },
     "execution_count": 9,
     "metadata": {},
     "output_type": "execute_result"
    }
   ],
   "source": [
    "# get all the unique values in the 'City' column\n",
    "countries = professors['Country'].unique()\n",
    "\n",
    "# sort them alphabetically and then take a closer look\n",
    "countries.sort()\n",
    "countries"
   ]
  },
  {
   "cell_type": "markdown",
   "id": "9ff6b8e3",
   "metadata": {
    "papermill": {
     "duration": 0.005297,
     "end_time": "2022-08-13T20:27:53.868024",
     "exception": false,
     "start_time": "2022-08-13T20:27:53.862727",
     "status": "completed"
    },
    "tags": []
   },
   "source": [
    "Take another look at the \"Country\" column and see if there's any more data cleaning we need to do.\n",
    "\n",
    "It looks like 'usa' and 'usofa' should be the same country.  Correct the \"Country\" column in the dataframe to replace 'usofa' with 'usa'.\n",
    "\n",
    "**Use the most recent version of the DataFrame (with the whitespaces at the beginning and end of cells removed) from question 2.**"
   ]
  },
  {
   "cell_type": "code",
   "execution_count": 10,
   "id": "71277c0f",
   "metadata": {
    "execution": {
     "iopub.execute_input": "2022-08-13T20:27:53.881849Z",
     "iopub.status.busy": "2022-08-13T20:27:53.881126Z",
     "iopub.status.idle": "2022-08-13T20:27:53.893883Z",
     "shell.execute_reply": "2022-08-13T20:27:53.892704Z"
    },
    "papermill": {
     "duration": 0.022387,
     "end_time": "2022-08-13T20:27:53.896352",
     "exception": false,
     "start_time": "2022-08-13T20:27:53.873965",
     "status": "completed"
    },
    "tags": []
   },
   "outputs": [
    {
     "name": "stdout",
     "output_type": "stream",
     "text": [
      "All done!\n"
     ]
    },
    {
     "data": {
      "application/javascript": [
       "parent.postMessage({\"jupyterEvent\": \"custom.exercise_interaction\", \"data\": {\"outcomeType\": 1, \"valueTowardsCompletion\": 0.3333333333333333, \"interactionType\": 1, \"questionType\": 1, \"questionId\": \"3_WorkingWithCities\", \"learnToolsVersion\": \"0.3.4\", \"failureMessage\": \"\", \"exceptionClass\": \"\", \"trace\": \"\"}}, \"*\")"
      ],
      "text/plain": [
       "<IPython.core.display.Javascript object>"
      ]
     },
     "metadata": {},
     "output_type": "display_data"
    },
    {
     "data": {
      "text/markdown": [
       "<span style=\"color:#33cc33\">Correct</span>"
      ],
      "text/plain": [
       "Correct"
      ]
     },
     "metadata": {},
     "output_type": "display_data"
    }
   ],
   "source": [
    "# TODO: Your code here!\n",
    "replace_matches_in_column(df=professors, column='Country', string_to_match=\"usa\", min_ratio=70)\n",
    "\n",
    "# Check your answer\n",
    "q3.check()"
   ]
  },
  {
   "cell_type": "code",
   "execution_count": 11,
   "id": "9a2b4758",
   "metadata": {
    "execution": {
     "iopub.execute_input": "2022-08-13T20:27:53.909990Z",
     "iopub.status.busy": "2022-08-13T20:27:53.909593Z",
     "iopub.status.idle": "2022-08-13T20:27:53.914095Z",
     "shell.execute_reply": "2022-08-13T20:27:53.913065Z"
    },
    "papermill": {
     "duration": 0.013896,
     "end_time": "2022-08-13T20:27:53.916279",
     "exception": false,
     "start_time": "2022-08-13T20:27:53.902383",
     "status": "completed"
    },
    "tags": []
   },
   "outputs": [],
   "source": [
    "# Lines below will give you a hint or solution code\n",
    "#q3.hint()\n",
    "#q3.solution()"
   ]
  },
  {
   "cell_type": "markdown",
   "id": "ae7c97dd",
   "metadata": {
    "papermill": {
     "duration": 0.005705,
     "end_time": "2022-08-13T20:27:53.927957",
     "exception": false,
     "start_time": "2022-08-13T20:27:53.922252",
     "status": "completed"
    },
    "tags": []
   },
   "source": [
    "# Congratulations!\n",
    "\n",
    "Congratulations for completing the **Data Cleaning** course on Kaggle Learn!\n",
    "\n",
    "To practice your new skills, you're encouraged to download and investigate some of [Kaggle's Datasets](https://www.kaggle.com/datasets)."
   ]
  },
  {
   "cell_type": "markdown",
   "id": "d93270f3",
   "metadata": {
    "papermill": {
     "duration": 0.005972,
     "end_time": "2022-08-13T20:27:53.939725",
     "exception": false,
     "start_time": "2022-08-13T20:27:53.933753",
     "status": "completed"
    },
    "tags": []
   },
   "source": [
    "---\n",
    "\n",
    "\n",
    "\n",
    "\n",
    "*Have questions or comments? Visit the [course discussion forum](https://www.kaggle.com/learn/data-cleaning/discussion) to chat with other learners.*"
   ]
  }
 ],
 "metadata": {
  "kernelspec": {
   "display_name": "Python 3",
   "language": "python",
   "name": "python3"
  },
  "language_info": {
   "codemirror_mode": {
    "name": "ipython",
    "version": 3
   },
   "file_extension": ".py",
   "mimetype": "text/x-python",
   "name": "python",
   "nbconvert_exporter": "python",
   "pygments_lexer": "ipython3",
   "version": "3.7.12"
  },
  "papermill": {
   "default_parameters": {},
   "duration": 10.339725,
   "end_time": "2022-08-13T20:27:54.570381",
   "environment_variables": {},
   "exception": null,
   "input_path": "__notebook__.ipynb",
   "output_path": "__notebook__.ipynb",
   "parameters": {},
   "start_time": "2022-08-13T20:27:44.230656",
   "version": "2.3.4"
  }
 },
 "nbformat": 4,
 "nbformat_minor": 5
}
