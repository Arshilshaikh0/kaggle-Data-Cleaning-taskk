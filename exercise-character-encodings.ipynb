{
 "cells": [
  {
   "cell_type": "markdown",
   "id": "610b3584",
   "metadata": {
    "papermill": {
     "duration": 0.007792,
     "end_time": "2022-08-13T20:16:10.764601",
     "exception": false,
     "start_time": "2022-08-13T20:16:10.756809",
     "status": "completed"
    },
    "tags": []
   },
   "source": [
    "**This notebook is an exercise in the [Data Cleaning](https://www.kaggle.com/learn/data-cleaning) course.  You can reference the tutorial at [this link](https://www.kaggle.com/alexisbcook/character-encodings).**\n",
    "\n",
    "---\n"
   ]
  },
  {
   "cell_type": "markdown",
   "id": "fae27cb8",
   "metadata": {
    "papermill": {
     "duration": 0.005768,
     "end_time": "2022-08-13T20:16:10.776208",
     "exception": false,
     "start_time": "2022-08-13T20:16:10.770440",
     "status": "completed"
    },
    "tags": []
   },
   "source": [
    "In this exercise, you'll apply what you learned in the **Character encodings** tutorial.\n",
    "\n",
    "# Setup\n",
    "\n",
    "The questions below will give you feedback on your work. Run the following cell to set up the feedback system."
   ]
  },
  {
   "cell_type": "code",
   "execution_count": 1,
   "id": "56a1cf4d",
   "metadata": {
    "execution": {
     "iopub.execute_input": "2022-08-13T20:16:10.792812Z",
     "iopub.status.busy": "2022-08-13T20:16:10.791974Z",
     "iopub.status.idle": "2022-08-13T20:16:10.897477Z",
     "shell.execute_reply": "2022-08-13T20:16:10.895800Z"
    },
    "papermill": {
     "duration": 0.116886,
     "end_time": "2022-08-13T20:16:10.900306",
     "exception": false,
     "start_time": "2022-08-13T20:16:10.783420",
     "status": "completed"
    },
    "tags": []
   },
   "outputs": [
    {
     "name": "stdout",
     "output_type": "stream",
     "text": [
      "Setup Complete\n"
     ]
    }
   ],
   "source": [
    "from learntools.core import binder\n",
    "binder.bind(globals())\n",
    "from learntools.data_cleaning.ex4 import *\n",
    "print(\"Setup Complete\")"
   ]
  },
  {
   "cell_type": "markdown",
   "id": "5439c303",
   "metadata": {
    "papermill": {
     "duration": 0.004349,
     "end_time": "2022-08-13T20:16:10.909323",
     "exception": false,
     "start_time": "2022-08-13T20:16:10.904974",
     "status": "completed"
    },
    "tags": []
   },
   "source": [
    "# Get our environment set up\n",
    "\n",
    "The first thing we'll need to do is load in the libraries we'll be using."
   ]
  },
  {
   "cell_type": "code",
   "execution_count": 2,
   "id": "4c620a50",
   "metadata": {
    "execution": {
     "iopub.execute_input": "2022-08-13T20:16:10.920462Z",
     "iopub.status.busy": "2022-08-13T20:16:10.920046Z",
     "iopub.status.idle": "2022-08-13T20:16:10.925503Z",
     "shell.execute_reply": "2022-08-13T20:16:10.924318Z"
    },
    "papermill": {
     "duration": 0.013988,
     "end_time": "2022-08-13T20:16:10.927916",
     "exception": false,
     "start_time": "2022-08-13T20:16:10.913928",
     "status": "completed"
    },
    "tags": []
   },
   "outputs": [],
   "source": [
    "# modules we'll use\n",
    "import pandas as pd\n",
    "import numpy as np\n",
    "\n",
    "# helpful character encoding module\n",
    "import chardet\n",
    "\n",
    "# set seed for reproducibility\n",
    "np.random.seed(0)"
   ]
  },
  {
   "cell_type": "markdown",
   "id": "4127d31d",
   "metadata": {
    "papermill": {
     "duration": 0.004445,
     "end_time": "2022-08-13T20:16:10.937064",
     "exception": false,
     "start_time": "2022-08-13T20:16:10.932619",
     "status": "completed"
    },
    "tags": []
   },
   "source": [
    "# 1) What are encodings?\n",
    "\n",
    "You're working with a dataset composed of bytes.  Run the code cell below to print a sample entry."
   ]
  },
  {
   "cell_type": "code",
   "execution_count": 3,
   "id": "678b5cc7",
   "metadata": {
    "execution": {
     "iopub.execute_input": "2022-08-13T20:16:10.948450Z",
     "iopub.status.busy": "2022-08-13T20:16:10.948044Z",
     "iopub.status.idle": "2022-08-13T20:16:10.954121Z",
     "shell.execute_reply": "2022-08-13T20:16:10.952762Z"
    },
    "papermill": {
     "duration": 0.015327,
     "end_time": "2022-08-13T20:16:10.957165",
     "exception": false,
     "start_time": "2022-08-13T20:16:10.941838",
     "status": "completed"
    },
    "tags": []
   },
   "outputs": [
    {
     "name": "stdout",
     "output_type": "stream",
     "text": [
      "b'\\xa7A\\xa6n'\n",
      "data type: <class 'bytes'>\n"
     ]
    }
   ],
   "source": [
    "sample_entry = b'\\xa7A\\xa6n'\n",
    "print(sample_entry)\n",
    "print('data type:', type(sample_entry))"
   ]
  },
  {
   "cell_type": "markdown",
   "id": "bea06693",
   "metadata": {
    "papermill": {
     "duration": 0.004337,
     "end_time": "2022-08-13T20:16:10.966358",
     "exception": false,
     "start_time": "2022-08-13T20:16:10.962021",
     "status": "completed"
    },
    "tags": []
   },
   "source": [
    "You notice that it doesn't use the standard UTF-8 encoding. \n",
    "\n",
    "Use the next code cell to create a variable `new_entry` that changes the encoding from `\"big5-tw\"` to `\"utf-8\"`.  `new_entry` should have the bytes datatype."
   ]
  },
  {
   "cell_type": "code",
   "execution_count": 4,
   "id": "6fd78231",
   "metadata": {
    "execution": {
     "iopub.execute_input": "2022-08-13T20:16:10.977825Z",
     "iopub.status.busy": "2022-08-13T20:16:10.977036Z",
     "iopub.status.idle": "2022-08-13T20:16:10.987967Z",
     "shell.execute_reply": "2022-08-13T20:16:10.987200Z"
    },
    "papermill": {
     "duration": 0.019046,
     "end_time": "2022-08-13T20:16:10.990074",
     "exception": false,
     "start_time": "2022-08-13T20:16:10.971028",
     "status": "completed"
    },
    "tags": []
   },
   "outputs": [
    {
     "data": {
      "application/javascript": [
       "parent.postMessage({\"jupyterEvent\": \"custom.exercise_interaction\", \"data\": {\"outcomeType\": 1, \"valueTowardsCompletion\": 0.3333333333333333, \"interactionType\": 1, \"questionType\": 1, \"questionId\": \"1_EncodingsIntro\", \"learnToolsVersion\": \"0.3.4\", \"failureMessage\": \"\", \"exceptionClass\": \"\", \"trace\": \"\"}}, \"*\")"
      ],
      "text/plain": [
       "<IPython.core.display.Javascript object>"
      ]
     },
     "metadata": {},
     "output_type": "display_data"
    },
    {
     "data": {
      "text/markdown": [
       "<span style=\"color:#33cc33\">Correct</span>"
      ],
      "text/plain": [
       "Correct"
      ]
     },
     "metadata": {},
     "output_type": "display_data"
    }
   ],
   "source": [
    "before = sample_entry.decode(\"big5-tw\")\n",
    "new_entry = before.encode()\n",
    "\n",
    "\n",
    "# Check your answer\n",
    "q1.check()"
   ]
  },
  {
   "cell_type": "code",
   "execution_count": 5,
   "id": "5429be6a",
   "metadata": {
    "execution": {
     "iopub.execute_input": "2022-08-13T20:16:11.001894Z",
     "iopub.status.busy": "2022-08-13T20:16:11.001461Z",
     "iopub.status.idle": "2022-08-13T20:16:11.006236Z",
     "shell.execute_reply": "2022-08-13T20:16:11.005014Z"
    },
    "papermill": {
     "duration": 0.013665,
     "end_time": "2022-08-13T20:16:11.008618",
     "exception": false,
     "start_time": "2022-08-13T20:16:10.994953",
     "status": "completed"
    },
    "tags": []
   },
   "outputs": [],
   "source": [
    "# Lines below will give you a hint or solution code\n",
    "#q1.hint()\n",
    "#q1.solution()"
   ]
  },
  {
   "cell_type": "markdown",
   "id": "d7be9a57",
   "metadata": {
    "papermill": {
     "duration": 0.0048,
     "end_time": "2022-08-13T20:16:11.018660",
     "exception": false,
     "start_time": "2022-08-13T20:16:11.013860",
     "status": "completed"
    },
    "tags": []
   },
   "source": [
    "# 2) Reading in files with encoding problems\n",
    "\n",
    "Use the code cell below to read in this file at path `\"../input/fatal-police-shootings-in-the-us/PoliceKillingsUS.csv\"`.  \n",
    "\n",
    "Figure out what the correct encoding should be and read in the file to a DataFrame `police_killings`."
   ]
  },
  {
   "cell_type": "code",
   "execution_count": 6,
   "id": "9055be11",
   "metadata": {
    "execution": {
     "iopub.execute_input": "2022-08-13T20:16:11.031196Z",
     "iopub.status.busy": "2022-08-13T20:16:11.030469Z",
     "iopub.status.idle": "2022-08-13T20:16:11.065933Z",
     "shell.execute_reply": "2022-08-13T20:16:11.064711Z"
    },
    "papermill": {
     "duration": 0.044401,
     "end_time": "2022-08-13T20:16:11.068413",
     "exception": false,
     "start_time": "2022-08-13T20:16:11.024012",
     "status": "completed"
    },
    "tags": []
   },
   "outputs": [
    {
     "data": {
      "application/javascript": [
       "parent.postMessage({\"jupyterEvent\": \"custom.exercise_interaction\", \"data\": {\"outcomeType\": 1, \"valueTowardsCompletion\": 0.3333333333333333, \"interactionType\": 1, \"questionType\": 1, \"questionId\": \"2_ReadIn\", \"learnToolsVersion\": \"0.3.4\", \"failureMessage\": \"\", \"exceptionClass\": \"\", \"trace\": \"\"}}, \"*\")"
      ],
      "text/plain": [
       "<IPython.core.display.Javascript object>"
      ]
     },
     "metadata": {},
     "output_type": "display_data"
    },
    {
     "data": {
      "text/markdown": [
       "<span style=\"color:#33cc33\">Correct</span>"
      ],
      "text/plain": [
       "Correct"
      ]
     },
     "metadata": {},
     "output_type": "display_data"
    }
   ],
   "source": [
    "# TODO: Load in the DataFrame correctly.\n",
    "police_killings = pd.read_csv(\"../input/fatal-police-shootings-in-the-us/PoliceKillingsUS.csv\", encoding='Windows-1252')\n",
    "\n",
    "# Check your answer\n",
    "q2.check()"
   ]
  },
  {
   "cell_type": "markdown",
   "id": "db4d9d2c",
   "metadata": {
    "papermill": {
     "duration": 0.004996,
     "end_time": "2022-08-13T20:16:11.078602",
     "exception": false,
     "start_time": "2022-08-13T20:16:11.073606",
     "status": "completed"
    },
    "tags": []
   },
   "source": [
    "Feel free to use any additional code cells for supplemental work.  To get credit for finishing this question, you'll need to run `q2.check()` and get a result of **Correct**."
   ]
  },
  {
   "cell_type": "code",
   "execution_count": 7,
   "id": "8fdaf2cd",
   "metadata": {
    "execution": {
     "iopub.execute_input": "2022-08-13T20:16:11.091180Z",
     "iopub.status.busy": "2022-08-13T20:16:11.090408Z",
     "iopub.status.idle": "2022-08-13T20:16:11.095554Z",
     "shell.execute_reply": "2022-08-13T20:16:11.094752Z"
    },
    "papermill": {
     "duration": 0.014512,
     "end_time": "2022-08-13T20:16:11.098231",
     "exception": false,
     "start_time": "2022-08-13T20:16:11.083719",
     "status": "completed"
    },
    "tags": []
   },
   "outputs": [],
   "source": [
    "# (Optional) Use this code cell for any additional work."
   ]
  },
  {
   "cell_type": "code",
   "execution_count": 8,
   "id": "5dd45601",
   "metadata": {
    "execution": {
     "iopub.execute_input": "2022-08-13T20:16:11.110830Z",
     "iopub.status.busy": "2022-08-13T20:16:11.110151Z",
     "iopub.status.idle": "2022-08-13T20:16:11.114733Z",
     "shell.execute_reply": "2022-08-13T20:16:11.113844Z"
    },
    "papermill": {
     "duration": 0.01356,
     "end_time": "2022-08-13T20:16:11.116962",
     "exception": false,
     "start_time": "2022-08-13T20:16:11.103402",
     "status": "completed"
    },
    "tags": []
   },
   "outputs": [],
   "source": [
    "# Lines below will give you a hint or solution code\n",
    "#q2.hint()\n",
    "#q2.solution()"
   ]
  },
  {
   "cell_type": "markdown",
   "id": "d175cda1",
   "metadata": {
    "papermill": {
     "duration": 0.005048,
     "end_time": "2022-08-13T20:16:11.127241",
     "exception": false,
     "start_time": "2022-08-13T20:16:11.122193",
     "status": "completed"
    },
    "tags": []
   },
   "source": [
    "# 3) Saving your files with UTF-8 encoding\n",
    "\n",
    "Save a version of the police killings dataset to CSV with UTF-8 encoding.  Your answer will be marked correct after saving this file.  \n",
    "\n",
    "Note: When using the `to_csv()` method, supply only the name of the file (e.g., `\"my_file.csv\"`).  This saves the file at the filepath `\"/kaggle/working/my_file.csv\"`."
   ]
  },
  {
   "cell_type": "code",
   "execution_count": 9,
   "id": "4c41d422",
   "metadata": {
    "execution": {
     "iopub.execute_input": "2022-08-13T20:16:11.140093Z",
     "iopub.status.busy": "2022-08-13T20:16:11.139409Z",
     "iopub.status.idle": "2022-08-13T20:16:11.175906Z",
     "shell.execute_reply": "2022-08-13T20:16:11.174843Z"
    },
    "papermill": {
     "duration": 0.045769,
     "end_time": "2022-08-13T20:16:11.178500",
     "exception": false,
     "start_time": "2022-08-13T20:16:11.132731",
     "status": "completed"
    },
    "tags": []
   },
   "outputs": [
    {
     "data": {
      "application/javascript": [
       "parent.postMessage({\"jupyterEvent\": \"custom.exercise_interaction\", \"data\": {\"outcomeType\": 1, \"valueTowardsCompletion\": 0.3333333333333333, \"interactionType\": 1, \"questionType\": 2, \"questionId\": \"3_SaveCSV\", \"learnToolsVersion\": \"0.3.4\", \"failureMessage\": \"\", \"exceptionClass\": \"\", \"trace\": \"\"}}, \"*\")"
      ],
      "text/plain": [
       "<IPython.core.display.Javascript object>"
      ]
     },
     "metadata": {},
     "output_type": "display_data"
    },
    {
     "data": {
      "text/markdown": [
       "<span style=\"color:#33cc33\">Correct</span>"
      ],
      "text/plain": [
       "Correct"
      ]
     },
     "metadata": {},
     "output_type": "display_data"
    }
   ],
   "source": [
    "# TODO: Save the police killings dataset to CSV\n",
    "police_killings.to_csv(\"my_file.csv\")\n",
    "\n",
    "# Check your answer\n",
    "q3.check()"
   ]
  },
  {
   "cell_type": "code",
   "execution_count": 10,
   "id": "a773e582",
   "metadata": {
    "execution": {
     "iopub.execute_input": "2022-08-13T20:16:11.191407Z",
     "iopub.status.busy": "2022-08-13T20:16:11.191011Z",
     "iopub.status.idle": "2022-08-13T20:16:11.196022Z",
     "shell.execute_reply": "2022-08-13T20:16:11.194918Z"
    },
    "papermill": {
     "duration": 0.014189,
     "end_time": "2022-08-13T20:16:11.198336",
     "exception": false,
     "start_time": "2022-08-13T20:16:11.184147",
     "status": "completed"
    },
    "tags": []
   },
   "outputs": [],
   "source": [
    "# Lines below will give you a hint or solution code\n",
    "#q3.hint()\n",
    "#q3.solution()"
   ]
  },
  {
   "cell_type": "markdown",
   "id": "0396513e",
   "metadata": {
    "papermill": {
     "duration": 0.006214,
     "end_time": "2022-08-13T20:16:11.210151",
     "exception": false,
     "start_time": "2022-08-13T20:16:11.203937",
     "status": "completed"
    },
    "tags": []
   },
   "source": [
    "# (Optional) More practice\n",
    "\n",
    "Check out [this dataset of files in different character encodings](https://www.kaggle.com/rtatman/character-encoding-examples). Can you read in all the files with their original encodings and them save them out as UTF-8 files?\n",
    "\n",
    "If you have a file that's in UTF-8 but has just a couple of weird-looking characters in it, you can try out the [ftfy module](https://ftfy.readthedocs.io/en/latest/#) and see if it helps. \n",
    "\n",
    "# Keep going\n",
    "\n",
    "In the final lesson, learn how to [**clean up inconsistent text entries**](https://www.kaggle.com/alexisbcook/inconsistent-data-entry) in your dataset."
   ]
  },
  {
   "cell_type": "markdown",
   "id": "54740d3c",
   "metadata": {
    "papermill": {
     "duration": 0.005258,
     "end_time": "2022-08-13T20:16:11.220973",
     "exception": false,
     "start_time": "2022-08-13T20:16:11.215715",
     "status": "completed"
    },
    "tags": []
   },
   "source": [
    "---\n",
    "\n",
    "\n",
    "\n",
    "\n",
    "*Have questions or comments? Visit the [course discussion forum](https://www.kaggle.com/learn/data-cleaning/discussion) to chat with other learners.*"
   ]
  }
 ],
 "metadata": {
  "kernelspec": {
   "display_name": "Python 3",
   "language": "python",
   "name": "python3"
  },
  "language_info": {
   "codemirror_mode": {
    "name": "ipython",
    "version": 3
   },
   "file_extension": ".py",
   "mimetype": "text/x-python",
   "name": "python",
   "nbconvert_exporter": "python",
   "pygments_lexer": "ipython3",
   "version": "3.7.12"
  },
  "papermill": {
   "default_parameters": {},
   "duration": 10.340022,
   "end_time": "2022-08-13T20:16:11.948313",
   "environment_variables": {},
   "exception": null,
   "input_path": "__notebook__.ipynb",
   "output_path": "__notebook__.ipynb",
   "parameters": {},
   "start_time": "2022-08-13T20:16:01.608291",
   "version": "2.3.4"
  }
 },
 "nbformat": 4,
 "nbformat_minor": 5
}
